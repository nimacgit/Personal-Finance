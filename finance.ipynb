{
 "cells": [
  {
   "cell_type": "code",
   "execution_count": null,
   "metadata": {},
   "outputs": [],
   "source": [
    "!pip install oxtapus"
   ]
  },
  {
   "cell_type": "code",
   "execution_count": 3,
   "metadata": {},
   "outputs": [
    {
     "data": {
      "text/html": [
       "<div><style>\n",
       ".dataframe > thead > tr,\n",
       ".dataframe > tbody > tr {\n",
       "  text-align: right;\n",
       "  white-space: pre-wrap;\n",
       "}\n",
       "</style>\n",
       "<small>shape: (11_666, 6)</small><table border=\"1\" class=\"dataframe\"><thead><tr><th>date</th><th>jdate</th><th>open</th><th>high</th><th>low</th><th>close</th></tr><tr><td>date</td><td>str</td><td>f64</td><td>f64</td><td>f64</td><td>f64</td></tr></thead><tbody><tr><td>2024-12-03</td><td>&quot;1403-09-13&quot;</td><td>2638.07</td><td>2655.27</td><td>2634.69</td><td>2643.19</td></tr><tr><td>2024-12-02</td><td>&quot;1403-09-12&quot;</td><td>2648.44</td><td>2653.55</td><td>2622.26</td><td>2641.72</td></tr><tr><td>2024-11-30</td><td>&quot;1403-09-10&quot;</td><td>2653.55</td><td>2653.55</td><td>2650.11</td><td>2653.55</td></tr><tr><td>2024-11-29</td><td>&quot;1403-09-09&quot;</td><td>2641.23</td><td>2666.2</td><td>2635.15</td><td>2650.11</td></tr><tr><td>2024-11-28</td><td>&quot;1403-09-08&quot;</td><td>2638.59</td><td>2649.03</td><td>2621.57</td><td>2637.39</td></tr><tr><td>&hellip;</td><td>&hellip;</td><td>&hellip;</td><td>&hellip;</td><td>&hellip;</td><td>&hellip;</td></tr><tr><td>1980-01-02</td><td>&quot;1358-10-12&quot;</td><td>559.75</td><td>559.75</td><td>559.75</td><td>559.75</td></tr><tr><td>1980-01-01</td><td>&quot;1358-10-11&quot;</td><td>512.0</td><td>512.0</td><td>512.0</td><td>512.0</td></tr><tr><td>1979-12-28</td><td>&quot;1358-10-07&quot;</td><td>512.0</td><td>512.0</td><td>512.0</td><td>512.0</td></tr><tr><td>1979-12-27</td><td>&quot;1358-10-06&quot;</td><td>515.5</td><td>515.5</td><td>515.5</td><td>515.5</td></tr><tr><td>1979-12-26</td><td>&quot;1358-10-05&quot;</td><td>499.0</td><td>499.0</td><td>499.0</td><td>499.0</td></tr></tbody></table></div>"
      ],
      "text/plain": [
       "shape: (11_666, 6)\n",
       "┌────────────┬────────────┬─────────┬─────────┬─────────┬─────────┐\n",
       "│ date       ┆ jdate      ┆ open    ┆ high    ┆ low     ┆ close   │\n",
       "│ ---        ┆ ---        ┆ ---     ┆ ---     ┆ ---     ┆ ---     │\n",
       "│ date       ┆ str        ┆ f64     ┆ f64     ┆ f64     ┆ f64     │\n",
       "╞════════════╪════════════╪═════════╪═════════╪═════════╪═════════╡\n",
       "│ 2024-12-03 ┆ 1403-09-13 ┆ 2638.07 ┆ 2655.27 ┆ 2634.69 ┆ 2643.19 │\n",
       "│ 2024-12-02 ┆ 1403-09-12 ┆ 2648.44 ┆ 2653.55 ┆ 2622.26 ┆ 2641.72 │\n",
       "│ 2024-11-30 ┆ 1403-09-10 ┆ 2653.55 ┆ 2653.55 ┆ 2650.11 ┆ 2653.55 │\n",
       "│ 2024-11-29 ┆ 1403-09-09 ┆ 2641.23 ┆ 2666.2  ┆ 2635.15 ┆ 2650.11 │\n",
       "│ 2024-11-28 ┆ 1403-09-08 ┆ 2638.59 ┆ 2649.03 ┆ 2621.57 ┆ 2637.39 │\n",
       "│ …          ┆ …          ┆ …       ┆ …       ┆ …       ┆ …       │\n",
       "│ 1980-01-02 ┆ 1358-10-12 ┆ 559.75  ┆ 559.75  ┆ 559.75  ┆ 559.75  │\n",
       "│ 1980-01-01 ┆ 1358-10-11 ┆ 512.0   ┆ 512.0   ┆ 512.0   ┆ 512.0   │\n",
       "│ 1979-12-28 ┆ 1358-10-07 ┆ 512.0   ┆ 512.0   ┆ 512.0   ┆ 512.0   │\n",
       "│ 1979-12-27 ┆ 1358-10-06 ┆ 515.5   ┆ 515.5   ┆ 515.5   ┆ 515.5   │\n",
       "│ 1979-12-26 ┆ 1358-10-05 ┆ 499.0   ┆ 499.0   ┆ 499.0   ┆ 499.0   │\n",
       "└────────────┴────────────┴─────────┴─────────┴─────────┴─────────┘"
      ]
     },
     "execution_count": 3,
     "metadata": {},
     "output_type": "execute_result"
    }
   ],
   "source": [
    "from oxtapus import TGJU\n",
    "\n",
    "tgju = TGJU()\n",
    "tgju.ons()"
   ]
  }
 ],
 "metadata": {
  "kernelspec": {
   "display_name": "Python 3",
   "language": "python",
   "name": "python3"
  },
  "language_info": {
   "codemirror_mode": {
    "name": "ipython",
    "version": 3
   },
   "file_extension": ".py",
   "mimetype": "text/x-python",
   "name": "python",
   "nbconvert_exporter": "python",
   "pygments_lexer": "ipython3",
   "version": "3.12.1"
  }
 },
 "nbformat": 4,
 "nbformat_minor": 2
}
