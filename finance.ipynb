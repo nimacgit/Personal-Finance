{
  "cells": [
    {
      "cell_type": "code",
      "execution_count": 1,
      "metadata": {
        "id": "Sr8NKGT598oo",
        "outputId": "94595c37-5862-47fa-f658-be7ee95353a7",
        "colab": {
          "base_uri": "https://localhost:8080/"
        }
      },
      "outputs": [
        {
          "output_type": "stream",
          "name": "stdout",
          "text": [
            "Collecting oxtapus\n",
            "  Downloading oxtapus-0.3.4-py3-none-any.whl.metadata (19 kB)\n",
            "Collecting httpx<0.26.0,>=0.25.0 (from oxtapus)\n",
            "  Downloading httpx-0.25.2-py3-none-any.whl.metadata (6.9 kB)\n",
            "Collecting polars<0.21.0,>=0.20.3 (from oxtapus)\n",
            "  Downloading polars-0.20.31-cp38-abi3-manylinux_2_17_x86_64.manylinux2014_x86_64.whl.metadata (14 kB)\n",
            "Requirement already satisfied: pydantic<3.0.0,>=2.5.3 in /usr/local/lib/python3.10/dist-packages (from oxtapus) (2.10.3)\n",
            "Requirement already satisfied: requests<3.0.0,>=2.32.2 in /usr/local/lib/python3.10/dist-packages (from oxtapus) (2.32.3)\n",
            "Collecting tarix<0.2.0,>=0.1.1 (from oxtapus)\n",
            "  Downloading tarix-0.1.1-py3-none-any.whl.metadata (1.3 kB)\n",
            "Collecting tenacity<9.0.0,>=8.2.3 (from oxtapus)\n",
            "  Downloading tenacity-8.5.0-py3-none-any.whl.metadata (1.2 kB)\n",
            "Requirement already satisfied: anyio in /usr/local/lib/python3.10/dist-packages (from httpx<0.26.0,>=0.25.0->oxtapus) (3.7.1)\n",
            "Requirement already satisfied: certifi in /usr/local/lib/python3.10/dist-packages (from httpx<0.26.0,>=0.25.0->oxtapus) (2024.8.30)\n",
            "Requirement already satisfied: httpcore==1.* in /usr/local/lib/python3.10/dist-packages (from httpx<0.26.0,>=0.25.0->oxtapus) (1.0.7)\n",
            "Requirement already satisfied: idna in /usr/local/lib/python3.10/dist-packages (from httpx<0.26.0,>=0.25.0->oxtapus) (3.10)\n",
            "Requirement already satisfied: sniffio in /usr/local/lib/python3.10/dist-packages (from httpx<0.26.0,>=0.25.0->oxtapus) (1.3.1)\n",
            "Requirement already satisfied: h11<0.15,>=0.13 in /usr/local/lib/python3.10/dist-packages (from httpcore==1.*->httpx<0.26.0,>=0.25.0->oxtapus) (0.14.0)\n",
            "Requirement already satisfied: annotated-types>=0.6.0 in /usr/local/lib/python3.10/dist-packages (from pydantic<3.0.0,>=2.5.3->oxtapus) (0.7.0)\n",
            "Requirement already satisfied: pydantic-core==2.27.1 in /usr/local/lib/python3.10/dist-packages (from pydantic<3.0.0,>=2.5.3->oxtapus) (2.27.1)\n",
            "Requirement already satisfied: typing-extensions>=4.12.2 in /usr/local/lib/python3.10/dist-packages (from pydantic<3.0.0,>=2.5.3->oxtapus) (4.12.2)\n",
            "Requirement already satisfied: charset-normalizer<4,>=2 in /usr/local/lib/python3.10/dist-packages (from requests<3.0.0,>=2.32.2->oxtapus) (3.4.0)\n",
            "Requirement already satisfied: urllib3<3,>=1.21.1 in /usr/local/lib/python3.10/dist-packages (from requests<3.0.0,>=2.32.2->oxtapus) (2.2.3)\n",
            "Collecting jdatetime<5.0.0,>=4.1.1 (from tarix<0.2.0,>=0.1.1->oxtapus)\n",
            "  Downloading jdatetime-4.1.1-py3-none-any.whl.metadata (5.3 kB)\n",
            "Requirement already satisfied: python-dateutil<3.0.0,>=2.8.2 in /usr/local/lib/python3.10/dist-packages (from tarix<0.2.0,>=0.1.1->oxtapus) (2.8.2)\n",
            "Requirement already satisfied: six>=1.5 in /usr/local/lib/python3.10/dist-packages (from python-dateutil<3.0.0,>=2.8.2->tarix<0.2.0,>=0.1.1->oxtapus) (1.16.0)\n",
            "Requirement already satisfied: exceptiongroup in /usr/local/lib/python3.10/dist-packages (from anyio->httpx<0.26.0,>=0.25.0->oxtapus) (1.2.2)\n",
            "Downloading oxtapus-0.3.4-py3-none-any.whl (38 kB)\n",
            "Downloading httpx-0.25.2-py3-none-any.whl (74 kB)\n",
            "\u001b[2K   \u001b[90m━━━━━━━━━━━━━━━━━━━━━━━━━━━━━━━━━━━━━━━━\u001b[0m \u001b[32m75.0/75.0 kB\u001b[0m \u001b[31m5.2 MB/s\u001b[0m eta \u001b[36m0:00:00\u001b[0m\n",
            "\u001b[?25hDownloading polars-0.20.31-cp38-abi3-manylinux_2_17_x86_64.manylinux2014_x86_64.whl (28.8 MB)\n",
            "\u001b[2K   \u001b[90m━━━━━━━━━━━━━━━━━━━━━━━━━━━━━━━━━━━━━━━━\u001b[0m \u001b[32m28.8/28.8 MB\u001b[0m \u001b[31m17.7 MB/s\u001b[0m eta \u001b[36m0:00:00\u001b[0m\n",
            "\u001b[?25hDownloading tarix-0.1.1-py3-none-any.whl (4.5 kB)\n",
            "Downloading tenacity-8.5.0-py3-none-any.whl (28 kB)\n",
            "Downloading jdatetime-4.1.1-py3-none-any.whl (13 kB)\n",
            "Installing collected packages: tenacity, polars, jdatetime, tarix, httpx, oxtapus\n",
            "  Attempting uninstall: tenacity\n",
            "    Found existing installation: tenacity 9.0.0\n",
            "    Uninstalling tenacity-9.0.0:\n",
            "      Successfully uninstalled tenacity-9.0.0\n",
            "  Attempting uninstall: polars\n",
            "    Found existing installation: polars 1.9.0\n",
            "    Uninstalling polars-1.9.0:\n",
            "      Successfully uninstalled polars-1.9.0\n",
            "  Attempting uninstall: httpx\n",
            "    Found existing installation: httpx 0.28.0\n",
            "    Uninstalling httpx-0.28.0:\n",
            "      Successfully uninstalled httpx-0.28.0\n",
            "Successfully installed httpx-0.25.2 jdatetime-4.1.1 oxtapus-0.3.4 polars-0.20.31 tarix-0.1.1 tenacity-8.5.0\n"
          ]
        }
      ],
      "source": [
        "!pip install oxtapus"
      ]
    },
    {
      "cell_type": "code",
      "execution_count": null,
      "metadata": {
        "id": "HF-xl8wA98oq",
        "outputId": "14736340-27c5-447e-a417-b8612a94435e"
      },
      "outputs": [
        {
          "data": {
            "text/html": [
              "<div><style>\n",
              ".dataframe > thead > tr,\n",
              ".dataframe > tbody > tr {\n",
              "  text-align: right;\n",
              "  white-space: pre-wrap;\n",
              "}\n",
              "</style>\n",
              "<small>shape: (11_666, 6)</small><table border=\"1\" class=\"dataframe\"><thead><tr><th>date</th><th>jdate</th><th>open</th><th>high</th><th>low</th><th>close</th></tr><tr><td>date</td><td>str</td><td>f64</td><td>f64</td><td>f64</td><td>f64</td></tr></thead><tbody><tr><td>2024-12-03</td><td>&quot;1403-09-13&quot;</td><td>2638.07</td><td>2655.27</td><td>2634.69</td><td>2643.19</td></tr><tr><td>2024-12-02</td><td>&quot;1403-09-12&quot;</td><td>2648.44</td><td>2653.55</td><td>2622.26</td><td>2641.72</td></tr><tr><td>2024-11-30</td><td>&quot;1403-09-10&quot;</td><td>2653.55</td><td>2653.55</td><td>2650.11</td><td>2653.55</td></tr><tr><td>2024-11-29</td><td>&quot;1403-09-09&quot;</td><td>2641.23</td><td>2666.2</td><td>2635.15</td><td>2650.11</td></tr><tr><td>2024-11-28</td><td>&quot;1403-09-08&quot;</td><td>2638.59</td><td>2649.03</td><td>2621.57</td><td>2637.39</td></tr><tr><td>&hellip;</td><td>&hellip;</td><td>&hellip;</td><td>&hellip;</td><td>&hellip;</td><td>&hellip;</td></tr><tr><td>1980-01-02</td><td>&quot;1358-10-12&quot;</td><td>559.75</td><td>559.75</td><td>559.75</td><td>559.75</td></tr><tr><td>1980-01-01</td><td>&quot;1358-10-11&quot;</td><td>512.0</td><td>512.0</td><td>512.0</td><td>512.0</td></tr><tr><td>1979-12-28</td><td>&quot;1358-10-07&quot;</td><td>512.0</td><td>512.0</td><td>512.0</td><td>512.0</td></tr><tr><td>1979-12-27</td><td>&quot;1358-10-06&quot;</td><td>515.5</td><td>515.5</td><td>515.5</td><td>515.5</td></tr><tr><td>1979-12-26</td><td>&quot;1358-10-05&quot;</td><td>499.0</td><td>499.0</td><td>499.0</td><td>499.0</td></tr></tbody></table></div>"
            ],
            "text/plain": [
              "shape: (11_666, 6)\n",
              "┌────────────┬────────────┬─────────┬─────────┬─────────┬─────────┐\n",
              "│ date       ┆ jdate      ┆ open    ┆ high    ┆ low     ┆ close   │\n",
              "│ ---        ┆ ---        ┆ ---     ┆ ---     ┆ ---     ┆ ---     │\n",
              "│ date       ┆ str        ┆ f64     ┆ f64     ┆ f64     ┆ f64     │\n",
              "╞════════════╪════════════╪═════════╪═════════╪═════════╪═════════╡\n",
              "│ 2024-12-03 ┆ 1403-09-13 ┆ 2638.07 ┆ 2655.27 ┆ 2634.69 ┆ 2643.19 │\n",
              "│ 2024-12-02 ┆ 1403-09-12 ┆ 2648.44 ┆ 2653.55 ┆ 2622.26 ┆ 2641.72 │\n",
              "│ 2024-11-30 ┆ 1403-09-10 ┆ 2653.55 ┆ 2653.55 ┆ 2650.11 ┆ 2653.55 │\n",
              "│ 2024-11-29 ┆ 1403-09-09 ┆ 2641.23 ┆ 2666.2  ┆ 2635.15 ┆ 2650.11 │\n",
              "│ 2024-11-28 ┆ 1403-09-08 ┆ 2638.59 ┆ 2649.03 ┆ 2621.57 ┆ 2637.39 │\n",
              "│ …          ┆ …          ┆ …       ┆ …       ┆ …       ┆ …       │\n",
              "│ 1980-01-02 ┆ 1358-10-12 ┆ 559.75  ┆ 559.75  ┆ 559.75  ┆ 559.75  │\n",
              "│ 1980-01-01 ┆ 1358-10-11 ┆ 512.0   ┆ 512.0   ┆ 512.0   ┆ 512.0   │\n",
              "│ 1979-12-28 ┆ 1358-10-07 ┆ 512.0   ┆ 512.0   ┆ 512.0   ┆ 512.0   │\n",
              "│ 1979-12-27 ┆ 1358-10-06 ┆ 515.5   ┆ 515.5   ┆ 515.5   ┆ 515.5   │\n",
              "│ 1979-12-26 ┆ 1358-10-05 ┆ 499.0   ┆ 499.0   ┆ 499.0   ┆ 499.0   │\n",
              "└────────────┴────────────┴─────────┴─────────┴─────────┴─────────┘"
            ]
          },
          "execution_count": 3,
          "metadata": {},
          "output_type": "execute_result"
        }
      ],
      "source": [
        "from oxtapus import TGJU\n",
        "\n",
        "tgju = TGJU()\n",
        "tgju.ons()"
      ]
    },
    {
      "cell_type": "code",
      "source": [],
      "metadata": {
        "id": "boCvaTrU-Ffm"
      },
      "execution_count": null,
      "outputs": []
    },
    {
      "cell_type": "markdown",
      "source": [
        "Loan Calculator"
      ],
      "metadata": {
        "id": "H_UuKH5d-GSH"
      }
    },
    {
      "cell_type": "code",
      "source": [
        "loan = 3 * 1000 * 1000\n",
        "fee = loan * 3 / 100\n",
        "loan_duration = 6\n",
        "ghest = 529568\n",
        "intrest_rate_investment_yearly = 0.355\n",
        "intrest_rate_investment_monthly = ((1+intrest_rate_investment_yearly)**(1/12))-1\n",
        "print(intrest_rate_investment_monthly)\n",
        "income = loan - fee\n",
        "for i in range(loan_duration):\n",
        "    income = income * (1+intrest_rate_investment_monthly)\n",
        "    income = income - ghest\n",
        "income"
      ],
      "metadata": {
        "id": "oIjfXJIe-NLl",
        "outputId": "25efd478-8640-4ed6-c7f7-cad037c168c0",
        "colab": {
          "base_uri": "https://localhost:8080/"
        }
      },
      "execution_count": 39,
      "outputs": [
        {
          "output_type": "stream",
          "name": "stdout",
          "text": [
            "0.02563997936123319\n"
          ]
        },
        {
          "output_type": "execute_result",
          "data": {
            "text/plain": [
              "-807.816489176359"
            ]
          },
          "metadata": {},
          "execution_count": 39
        }
      ]
    }
  ],
  "metadata": {
    "kernelspec": {
      "display_name": "Python 3",
      "language": "python",
      "name": "python3"
    },
    "language_info": {
      "codemirror_mode": {
        "name": "ipython",
        "version": 3
      },
      "file_extension": ".py",
      "mimetype": "text/x-python",
      "name": "python",
      "nbconvert_exporter": "python",
      "pygments_lexer": "ipython3",
      "version": "3.12.1"
    },
    "colab": {
      "provenance": []
    }
  },
  "nbformat": 4,
  "nbformat_minor": 0
}